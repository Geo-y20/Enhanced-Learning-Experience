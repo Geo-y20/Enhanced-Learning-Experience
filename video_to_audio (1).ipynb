{
  "nbformat": 4,
  "nbformat_minor": 0,
  "metadata": {
    "colab": {
      "provenance": []
    },
    "kernelspec": {
      "name": "python3",
      "display_name": "Python 3"
    },
    "language_info": {
      "name": "python"
    }
  },
  "cells": [
    {
      "cell_type": "code",
      "execution_count": null,
      "metadata": {
        "id": "Q3nMdnjT0GA3",
        "colab": {
          "base_uri": "https://localhost:8080/"
        },
        "outputId": "cd443265-d760-4d0d-f8b8-6f92489b76de"
      },
      "outputs": [
        {
          "output_type": "stream",
          "name": "stdout",
          "text": [
            "MoviePy - Writing audio in sample_audio.wav\n"
          ]
        },
        {
          "output_type": "stream",
          "name": "stderr",
          "text": [
            "                                                                    "
          ]
        },
        {
          "output_type": "stream",
          "name": "stdout",
          "text": [
            "MoviePy - Done.\n"
          ]
        },
        {
          "output_type": "stream",
          "name": "stderr",
          "text": [
            "\r"
          ]
        }
      ],
      "source": [
        "import moviepy.editor as mp\n",
        "\n",
        "\n",
        "def video_to_audio(in_path, out_path):\n",
        "    \"\"\"Convert video file to audio file\"\"\"\n",
        "\n",
        "    video = mp.VideoFileClip(in_path)\n",
        "    video.audio.write_audiofile(out_path)\n",
        "\n",
        "\n",
        "# Video to audio\n",
        "video_to_audio('/content/WhatsApp Video 2024-04-21 at 14.35.35_947563d8.mp4', 'sample_audio.wav')"
      ]
    },
    {
      "cell_type": "code",
      "source": [
        "import moviepy.editor as mp\n",
        "import os\n",
        "\n",
        "def convert_to_wav(in_path, out_path):\n",
        "    \"\"\"Convert any video or audio file to WAV format\"\"\"\n",
        "\n",
        "    # Extract file extension\n",
        "    _, ext = os.path.splitext(in_path)\n",
        "\n",
        "    # Load the video or audio file\n",
        "    clip = mp.AudioFileClip(in_path) if ext in ['.mp3', '.mp4', '.avi', '.mov', '.flv', '.opus'] else mp.VideoFileClip(in_path)\n",
        "\n",
        "    # Write the audio to WAV format\n",
        "    clip.write_audiofile(out_path, codec='pcm_s16le', fps=clip.fps, nbytes=2)\n",
        "\n",
        "# Example usage\n",
        "convert_to_wav('/content/WhatsApp Audio 2024-06-12 at 00.51.48_8ca33987.waptt.opus', 'sample_output.wav')"
      ],
      "metadata": {
        "colab": {
          "base_uri": "https://localhost:8080/"
        },
        "id": "dUO95MkDe0mR",
        "outputId": "a403b425-27cd-412c-b787-be2a6089782f"
      },
      "execution_count": null,
      "outputs": [
        {
          "output_type": "stream",
          "name": "stdout",
          "text": [
            "MoviePy - Writing audio in sample_output.wav\n"
          ]
        },
        {
          "output_type": "stream",
          "name": "stderr",
          "text": [
            "                                                        "
          ]
        },
        {
          "output_type": "stream",
          "name": "stdout",
          "text": [
            "MoviePy - Done.\n"
          ]
        },
        {
          "output_type": "stream",
          "name": "stderr",
          "text": [
            "\r"
          ]
        }
      ]
    }
  ]
}